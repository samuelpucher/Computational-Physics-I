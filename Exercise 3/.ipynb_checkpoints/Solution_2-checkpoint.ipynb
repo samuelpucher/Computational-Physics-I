{
 "cells": [
  {
   "cell_type": "markdown",
   "id": "4de10941",
   "metadata": {},
   "source": [
    "## Computational Physics I (WS2024)\n",
    "**Exercise-Nr.**: 2 <br>\n",
    "**Name**: Samuel Pucher <br>\n",
    "**Mat-Nr**: k12007701"
   ]
  },
  {
   "cell_type": "markdown",
   "id": "a46cbac1",
   "metadata": {},
   "source": [
    "-----------------------------------------------------------------"
   ]
  },
  {
   "cell_type": "code",
   "execution_count": null,
   "id": "b4b79aad",
   "metadata": {},
   "outputs": [],
   "source": [
    "import numpy as np\n",
    "import scipy.special"
   ]
  },
  {
   "cell_type": "markdown",
   "id": "8a7fda2a",
   "metadata": {},
   "source": [
    "-----------------------------------------------------------------"
   ]
  },
  {
   "cell_type": "markdown",
   "id": "f734cec5",
   "metadata": {},
   "source": [
    "### <u> Exercise 3.) </u>\n",
    "Task: Show if $H$ ,$F$ and $G$ are the Fouriertansforms of $h$, $f$ and $g$, then the convulution tunrs into a multiplication, i.e. \n",
    "\n",
    "$$ h(x) = \\int_{-\\infty}^\\infty dy \\ f(x-y) g(y) \\iff H(k) =F(k)G(k) $$\n",
    "Solution: \n",
    "$$ H(k) = \\int_{-\\infty}^\\infty dx \\ h(x) e^{-ikx} = \\int_{-\\infty}^\\infty dx \\ \\int_{-\\infty}^\\infty dy \\ f(x-y) g(y) e^{-ikx} $$\n",
    "Now subsitute $z=x-y$, then $dx = dz$, therefore\n",
    "$$ \n",
    "\\int_{-\\infty}^\\infty dz \\ \\int_{-\\infty}^\\infty dy \\ f(z) g(y) e^{-ik(z+y)} =\n",
    "\\int_{-\\infty}^\\infty dz\\ e^{-ikz} f(z) \\int_{-\\infty}^\\infty dy \\ g(y) e^{-iky} = F(k)\\cdot G(k)\n",
    "$$\n"
   ]
  },
  {
   "cell_type": "markdown",
   "id": "602daa03",
   "metadata": {},
   "source": [
    "### <u> Exercise 5.) </u>\n",
    "Task: If a function is isotropic, i.e. it depends only on $r =|\\boldsymbol{r}|$, show that the fourier transform of $f$, namely $F(\\boldsymbol{k})$, is given by a special sine transform\n",
    "\n",
    "\n",
    "Solution (3D):\n",
    "$$\n",
    "F(k) = \\int d^3r f(\\boldsymbol{r}) e^{-i\\boldsymbol{k}\\boldsymbol{r}} = \\int_{0}^\\infty dr\\ r^2 \\int_{0}^{2\\pi} d\\phi \\int_0^{\\pi} d\\theta\\ \\sin\\theta \\ f(r) e^{-ikr \\cos\\theta} = \n",
    "2\\pi \\int_{0}^\\infty dr\\ r^2\\ f(r)  \\int_0^{\\pi} d\\theta\\ \\sin\\theta \\  e^{-ikr \\cos\\theta}\n",
    "$$\n",
    "Let's evaluate the second part. We use a substitution $u = -ikr \\cos \\theta$:\n",
    "$$\n",
    "\\int_0^{\\pi} d\\theta\\ \\sin\\theta \\  e^{-ikr \\cos\\theta} = \\frac{-i}{kr} \\int_{u_1}^{u_2} du\\ e^u  = \\frac{-i}{kr} \\left. e^{-ikr \\cos \\theta} \\right|_0^\\pi = \\frac{2 \\sin (kr)}{kr}\n",
    "$$\n",
    "This yields the final result of: \n",
    "$$\n",
    "F(k) = \\frac{4\\pi}{k} \\int_0^\\infty dr\\ r \\ f(r) \\sin (kr)\n",
    "$$\n",
    "\n",
    "Solution (2D):\n",
    "$$\n",
    "F(k) = \\int d^3r f(\\boldsymbol{r}) e^{-i\\boldsymbol{k}\\boldsymbol{r}} =  \\int_{0}^\\infty dr\\ r \\int_{0}^{2\\pi} d\\phi f(r) e^{-ikr \\cos\\phi } = \\int_{0}^\\infty dr\\ r \\ f(r) \\int_{0}^{2\\pi} d\\phi\\ e^{-ikr \\cos\\phi }\n",
    "$$\n",
    "The second part of the integral can be expressed as a Besel function: using Bessel's first integral, namely:\n",
    "$$\n",
    "J_n(z) = \\frac{1}{2\\pi i^n} \\int_0^{2\\pi} e^{iz \\cos\\phi} e^{in\\phi}\n",
    "$$\n",
    "can be used for $n=0$. Therefore the second part of the integral yields:\n",
    "$$\n",
    "\\int_0^{2\\pi} e^{-i k r \\cos\\phi} = 2\\pi J(-kr)\n",
    "$$\n",
    "This yields the final result of:\n",
    "$$\n",
    "F(k)  =2 \\pi \\int_0^\\infty dr \\ r f(r) J_0(-kr)\n",
    "$$"
   ]
  },
  {
   "cell_type": "markdown",
   "id": "2f4eda8d",
   "metadata": {},
   "source": [
    "-----------------------------------------------------------------"
   ]
  },
  {
   "cell_type": "markdown",
   "id": "302608ea",
   "metadata": {},
   "source": [
    "### <u> Exercise 4.) </u>\n",
    "\n",
    "Let's start coding, we need to calculate the FT of $f(x) = \\exp \\left(-\\frac{x^2}{2\\sigma^2}\\right)$. We use a DFT (discrete fourier transform) for this . Then we transform back by using the inverse transformation\n"
   ]
  },
  {
   "cell_type": "code",
   "execution_count": 2,
   "id": "bc39612d",
   "metadata": {
    "scrolled": true
   },
   "outputs": [],
   "source": [
    "\"\"\"\n",
    "params:\n",
    "    func: function f(x) that will be transformed\n",
    "    grid: array that represents the grid\n",
    "\n",
    "return:\n",
    "    array, that represents f(k)\n",
    "\"\"\"\n",
    "def DFT(func, grid):\n",
    "    \n",
    "    for i in range(0,len(grid)):\n",
    "        return\n",
    "            \n",
    "    \n",
    "    "
   ]
  },
  {
   "cell_type": "markdown",
   "id": "4eeb40a1",
   "metadata": {},
   "source": [
    "### <u> Discussion of Exercise 4.) </u>\n",
    "\n"
   ]
  }
 ],
 "metadata": {
  "kernelspec": {
   "display_name": "Python 3 (ipykernel)",
   "language": "python",
   "name": "python3"
  },
  "language_info": {
   "codemirror_mode": {
    "name": "ipython",
    "version": 3
   },
   "file_extension": ".py",
   "mimetype": "text/x-python",
   "name": "python",
   "nbconvert_exporter": "python",
   "pygments_lexer": "ipython3",
   "version": "3.12.3"
  }
 },
 "nbformat": 4,
 "nbformat_minor": 5
}
