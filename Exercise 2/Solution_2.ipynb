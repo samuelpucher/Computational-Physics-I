{
 "cells": [
  {
   "cell_type": "markdown",
   "id": "4de10941",
   "metadata": {},
   "source": [
    "## Computational Physics I (WS2024)\n",
    "**Exercise-Nr.**: 2 <br>\n",
    "**Name**: Samuel Pucher <br>\n",
    "**Mat-Nr**: k12007701"
   ]
  },
  {
   "cell_type": "markdown",
   "id": "a46cbac1",
   "metadata": {},
   "source": [
    "-----------------------------------------------------------------"
   ]
  },
  {
   "cell_type": "code",
   "execution_count": null,
   "id": "b4b79aad",
   "metadata": {},
   "outputs": [],
   "source": [
    "import numpy as np\n",
    "import scipy.special"
   ]
  },
  {
   "cell_type": "markdown",
   "id": "8a7fda2a",
   "metadata": {},
   "source": [
    "-----------------------------------------------------------------"
   ]
  },
  {
   "cell_type": "markdown",
   "id": "f734cec5",
   "metadata": {},
   "source": [
    "### <u> Exercise 3.) </u>\n",
    "Task: Show if $H$ ,$F$ and $G$ are the Fouriertansforms of $h$, $f$ and $g$, then the convulution tunrs into a multiplication, i.e. \n",
    "\n",
    "$$ h(x) = \\int_{-\\infty}^\\infty dy \\ f(x-y) g(y) \\iff H(k) =F(k)G(k) $$\n",
    "Solution: \n",
    "$$ H(k) = \\int_{-\\infty}^\\infty dx \\ h(x) e^{-ikx} = \\int_{-\\infty}^\\infty dx \\ \\int_{-\\infty}^\\infty dy \\ f(x-y) g(y) e^{-ikx} $$\n",
    "Now subsitute $z=x-y$, then $dx = dz$, therefore\n",
    "$$ \n",
    "\\int_{-\\infty}^\\infty dz \\ \\int_{-\\infty}^\\infty dy \\ f(z) g(y) e^{-ik(z+y)} =\n",
    "\\int_{-\\infty}^\\infty dz\\ e^{-ikz} f(z) \\int_{-\\infty}^\\infty dy \\ g(y) e^{-iky} = F(k)\\cdot G(k)\n",
    "$$\n"
   ]
  },
  {
   "cell_type": "markdown",
   "id": "602daa03",
   "metadata": {},
   "source": [
    "### <u> Exercise 5.) </u>\n",
    "Task: If a function is isotropic, i.e. it depends only on $r =|\\boldsymbol{r}|$, show that the fourier transform of $f$, namely $F(\\boldsymbol{k})$, is given by a special sine transform\n",
    "\n",
    "\n",
    "Solution (3D):\n",
    "$$\n",
    "F(k) = \\int d^3r f(\\boldsymbol{r}) e^{-i\\boldsymbol{k}\\boldsymbol{r}} = \\int_{0}^\\infty dr\\ r^2 \\int_{0}^{2\\pi} d\\phi \\int_0^{\\pi} d\\theta\\ \\sin\\theta \\ f(r) e^{-ikr \\cos\\theta} = \n",
    "2\\pi \\int_{0}^\\infty dr\\ r^2\\ f(r)  \\int_0^{\\pi} d\\theta\\ \\sin\\theta \\  e^{-ikr \\cos\\theta}\n",
    "$$\n",
    "Let's evaluate the second part. We use a substitution $u = -ikr \\cos \\theta$:\n",
    "$$\n",
    "\\int_0^{\\pi} d\\theta\\ \\sin\\theta \\  e^{-ikr \\cos\\theta} = \\frac{-i}{kr} \\int_{u_1}^{u_2} du\\ e^u  = \\frac{-i}{kr} \\left. e^{-ikr \\cos \\theta} \\right|_0^\\pi = \\frac{2 \\sin (kr)}{kr}\n",
    "$$\n",
    "This yields the final result of: \n",
    "$$\n",
    "F(k) = \\frac{4\\pi}{k} \\int_0^\\infty dr\\ r \\ f(r) \\sin (kr)\n",
    "$$\n",
    "\n",
    "Solution (2D):\n",
    "$$\n",
    "F(k) = \\int d^3r f(\\boldsymbol{r}) e^{-i\\boldsymbol{k}\\boldsymbol{r}} =  \\int_{0}^\\infty dr\\ r \\int_{0}^{2\\pi} d\\phi f(r) e^{-ikr \\cos\\phi } = \\int_{0}^\\infty dr\\ r \\ f(r) \\int_{0}^{2\\pi} d\\phi\\ e^{-ikr \\cos\\phi }\n",
    "$$\n",
    "The second part of the integral can be expressed as a Besel function: using Bessel's first integral, namely:\n",
    "$$\n",
    "J_n(z) = \\frac{1}{2\\pi i^n} \\int_0^{2\\pi} e^{iz \\cos\\phi} e^{in\\phi}\n",
    "$$\n",
    "can be used for $n=0$. Therefore the second part of the integral yields:\n",
    "$$\n",
    "\\int_0^{2\\pi} e^{-i k r \\cos\\phi} = 2\\pi J(-kr)\n",
    "$$\n",
    "This yields the final result of:\n",
    "$$\n",
    "F(k)  =2 \\pi \\int_0^\\infty dr \\ r f(r) J_0(-kr)\n",
    "$$"
   ]
  },
  {
   "cell_type": "markdown",
   "id": "2f4eda8d",
   "metadata": {},
   "source": [
    "-----------------------------------------------------------------"
   ]
  },
  {
   "cell_type": "markdown",
   "id": "302608ea",
   "metadata": {},
   "source": [
    "### <u> Exercise 4.) </u>\n"
   ]
  },
  {
   "cell_type": "code",
   "execution_count": null,
   "id": "bc39612d",
   "metadata": {
    "scrolled": true
   },
   "outputs": [],
   "source": [
    "def calc_bessel(x, n_max):\n",
    "    j_n_minus = scipy.special.j0(x)\n",
    "    j_n = scipy.special.j1(x)\n",
    "    print(\"J0: \", j_n_minus)\n",
    "    print(\"J1: \", j_n)\n",
    "\n",
    "    for n in range(2, int(n_max) + 1):\n",
    "        j_n_plus = ((2 * (n - 1)) / x) * j_n - j_n_minus\n",
    "        j_n_minus = j_n\n",
    "        j_n = j_n_plus\n",
    "        error = j_n/scipy.special.jv(n, x)  #Ratio of Analytic Solution/Recursion\n",
    "        print(\"J\" + str(n) + \": \", j_n)\n",
    "        print(\"relative error: \", error )\n",
    "\n",
    "#--------------Input--------------\n",
    "x = 4\n",
    "n_max = 20\n",
    "x_64 = float(x)\n",
    "x_32 = np.float32(x)\n",
    "\n",
    "print(\"\\n--------------Results--------------\")\n",
    "\n",
    "#Works until n=9 for x=1\n",
    "print(\"\\n64 bit float:\")\n",
    "calc_bessel(x_64, n_max)\n",
    "\n",
    "#Works until n=5 for x=1\n",
    "print(\"\\n32 bit float:\")\n",
    "calc_bessel(x_32, n_max)"
   ]
  },
  {
   "cell_type": "markdown",
   "id": "4eeb40a1",
   "metadata": {},
   "source": [
    "### <u> Discussion of Exercise 2.) </u>\n",
    "\n",
    "In this exercise, the Bessel functions were derived from a recursion formula, as stated in the exercise sheet. Unfortunately the recursion is not stable. E.g. te relative error $\\epsilon$ for $x=1$ for $n=10$, is arround $\\epsilon \\approx 40$ (64 bit) and for the same $x$ and $n=6$ the error is about $\\epsilon \\approx -1.6$. \n",
    "\n",
    "A list for a maximal $n$ (i.e. $0.9 < |\\epsilon |< 1.1 $) in terms of $x$ is given in the list\n",
    "\n",
    "$x=1$: $n (64):$ 8 , $n (32):$ 5\n",
    "\n",
    "$x=2$: $n (64):$ 11 , $n (32):$ 7\n",
    "\n",
    "$x=3$: $n (64):$ 14 , $n (32):$ 9\n",
    "\n",
    "\n",
    "Corious: Larger $x$ yields a higher maximal $n$"
   ]
  }
 ],
 "metadata": {
  "kernelspec": {
   "display_name": "Python 3 (ipykernel)",
   "language": "python",
   "name": "python3"
  },
  "language_info": {
   "codemirror_mode": {
    "name": "ipython",
    "version": 3
   },
   "file_extension": ".py",
   "mimetype": "text/x-python",
   "name": "python",
   "nbconvert_exporter": "python",
   "pygments_lexer": "ipython3",
   "version": "3.12.3"
  }
 },
 "nbformat": 4,
 "nbformat_minor": 5
}
