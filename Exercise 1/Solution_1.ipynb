{
 "cells": [
  {
   "cell_type": "markdown",
   "id": "4de10941",
   "metadata": {},
   "source": [
    "### Computational Physics I (WS2024)\n",
    "**Exercise-Nr.**: 1 <br>\n",
    "**Name**: Samuel Pucher <br>\n",
    "**Mat-Nr**: k12007701"
   ]
  },
  {
   "cell_type": "markdown",
   "id": "a46cbac1",
   "metadata": {},
   "source": [
    "-----------------------------------------------------------------"
   ]
  },
  {
   "cell_type": "code",
   "execution_count": 5,
   "id": "b4b79aad",
   "metadata": {},
   "outputs": [],
   "source": [
    "import numpy as np\n",
    "import scipy.special"
   ]
  },
  {
   "cell_type": "markdown",
   "id": "8a7fda2a",
   "metadata": {},
   "source": [
    "-----------------------------------------------------------------"
   ]
  },
  {
   "cell_type": "markdown",
   "id": "f734cec5",
   "metadata": {},
   "source": [
    "#### Exercise 1.)\n",
    "To dertermine the accurracy of 32-bit and 64-bit float numbers, one can use the built in functions of python"
   ]
  },
  {
   "cell_type": "code",
   "execution_count": 6,
   "id": "2d5025a7",
   "metadata": {},
   "outputs": [
    {
     "name": "stdout",
     "output_type": "stream",
     "text": [
      "Manually calculated machine accuracy:\n",
      "64 bit precision:  2.220446049250313e-16\n",
      "32 bit precision:  1.1920929e-07\n",
      "\n",
      "Machine accuracy according to built in numpy function:\n",
      "64 bit precision:  2.220446049250313e-16\n",
      "64 bit precision:  1.1920929e-07\n"
     ]
    }
   ],
   "source": [
    "#Function that determines the precission of the machine\n",
    "def machinePrecision(func = float):\n",
    "    machine_precision = func(1)\n",
    "    while func(1) + func(machine_precision) != func(1):\n",
    "        machine_precision_last = machine_precision\n",
    "        machine_precision = func(machine_precision) / func(2)\n",
    "    return machine_precision_last\n",
    "\n",
    "# Using the function above to manually calculate the machine accuracy for floating point types\n",
    "print(\"Manually calculated machine accuracy:\")\n",
    "print(\"64 bit precision: \", machinePrecision(float))\n",
    "print(\"32 bit precision: \", machinePrecision(np.float32))\n",
    "print(\"\\nMachine accuracy according to built in numpy function:\")\n",
    "print(\"64 bit precision: \", np.finfo(float).eps)\n",
    "print(\"64 bit precision: \", np.finfo(np.float32).eps)"
   ]
  },
  {
   "cell_type": "markdown",
   "id": "2f4eda8d",
   "metadata": {},
   "source": [
    "-----------------------------------------------------------------"
   ]
  },
  {
   "cell_type": "markdown",
   "id": "302608ea",
   "metadata": {},
   "source": [
    "#### Exercise 2.)\n",
    "The bessel function for $n \\geq 2 $ can be constructed by $J_0(x)$ and $J_1(x)$ (which we get from scipy) via recursion, see exercise sheet"
   ]
  },
  {
   "cell_type": "code",
   "execution_count": 7,
   "id": "bc39612d",
   "metadata": {
    "scrolled": true
   },
   "outputs": [
    {
     "name": "stdout",
     "output_type": "stream",
     "text": [
      "\n",
      "--------------Input--------------\n",
      "x: 123\n",
      "n_max: 3\n",
      "\n",
      "--------------Results--------------\n",
      "\n",
      "64 bit float:\n",
      "J0:  -0.06854552119354662\n",
      "J1:  0.021567351498907036\n",
      "J2:  0.06889620983580527\n",
      "J3:  -0.019326824349775156\n",
      "\n",
      "32 bit float:\n",
      "J0:  -0.06854552\n",
      "J1:  0.021567352\n",
      "J2:  0.06889620895792799\n",
      "J3:  -0.019326824995524915\n"
     ]
    }
   ],
   "source": [
    "def bessel(x, n_max):\n",
    "    j_n_minus = scipy.special.j0(x)\n",
    "    j_n = scipy.special.j1(x)\n",
    "    print(\"J0: \", j_n_minus)\n",
    "    print(\"J1: \", j_n)\n",
    "\n",
    "    for n in range(2, int(n_max) + 1):\n",
    "        j_n_plus = ((2 * (n - 1)) / x) * j_n - j_n_minus\n",
    "        j_n_minus = j_n\n",
    "        j_n = j_n_plus\n",
    "        print(\"J\" + str(n) + \": \", j_n)\n",
    "\n",
    "print(\"\\n--------------Input--------------\")\n",
    "x = input(\"x: \")\n",
    "x_64 = float(x)\n",
    "x_32 = np.float32(x)\n",
    "n_max = input(\"n_max: \")\n",
    "\n",
    "print(\"\\n--------------Results--------------\")\n",
    "\n",
    "# Fails at J10\n",
    "print(\"\\n64 bit float:\")\n",
    "bessel(x_64, n_max)\n",
    "# Fails at J6\n",
    "print(\"\\n32 bit float:\")\n",
    "bessel(x_32, n_max)"
   ]
  },
  {
   "cell_type": "markdown",
   "id": "4eeb40a1",
   "metadata": {},
   "source": [
    "#### Discussion\n"
   ]
  },
  {
   "cell_type": "markdown",
   "id": "8b7c964a",
   "metadata": {},
   "source": []
  }
 ],
 "metadata": {
  "kernelspec": {
   "display_name": "Python 3 (ipykernel)",
   "language": "python",
   "name": "python3"
  },
  "language_info": {
   "codemirror_mode": {
    "name": "ipython",
    "version": 3
   },
   "file_extension": ".py",
   "mimetype": "text/x-python",
   "name": "python",
   "nbconvert_exporter": "python",
   "pygments_lexer": "ipython3",
   "version": "3.10.9"
  }
 },
 "nbformat": 4,
 "nbformat_minor": 5
}
