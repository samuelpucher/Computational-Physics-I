{
 "cells": [
  {
   "cell_type": "markdown",
   "id": "4de10941",
   "metadata": {},
   "source": [
    "### Computational Physics I (WS2024)\n",
    "**Exercise-Nr.**: 1 <br>\n",
    "**Name**: Samuel Pucher <br>\n",
    "**Mat-Nr**: k12007701"
   ]
  },
  {
   "cell_type": "markdown",
   "id": "a46cbac1",
   "metadata": {},
   "source": [
    "-----------------------------------------------------------------"
   ]
  },
  {
   "cell_type": "code",
   "execution_count": 1,
   "id": "b4b79aad",
   "metadata": {},
   "outputs": [],
   "source": [
    "import numpy as np\n",
    "import scipy.special"
   ]
  },
  {
   "cell_type": "markdown",
   "id": "8a7fda2a",
   "metadata": {},
   "source": [
    "-----------------------------------------------------------------"
   ]
  },
  {
   "cell_type": "markdown",
   "id": "f734cec5",
   "metadata": {},
   "source": [
    "#### Exercise 1.)\n",
    "To dertermine the accurracy of 32-bit and 64-bit float numbers, one can use the built in functions of python"
   ]
  },
  {
   "cell_type": "code",
   "execution_count": 2,
   "id": "2d5025a7",
   "metadata": {},
   "outputs": [
    {
     "name": "stdout",
     "output_type": "stream",
     "text": [
      "Manually calculated machine accuracy:\n",
      "64 bit precision:  2.220446049250313e-16\n",
      "32 bit precision:  1.1920929e-07\n",
      "\n",
      "Machine accuracy according to built in numpy function:\n",
      "64 bit precision:  2.220446049250313e-16\n",
      "64 bit precision:  1.1920929e-07\n"
     ]
    }
   ],
   "source": [
    "def machinePrecision(func = float):\n",
    "    machine_precision = func(1)\n",
    "    while func(1) + func(machine_precision) != func(1):\n",
    "        machine_precision_last = machine_precision\n",
    "        machine_precision = func(machine_precision) / func(2)\n",
    "    return machine_precision_last\n",
    "\n",
    "# Using the function above to manually calculate the machine accuracy for floating point types\n",
    "print(\"Manually calculated machine accuracy:\")\n",
    "print(\"64 bit precision: \", machinePrecision(float))\n",
    "print(\"32 bit precision: \", machinePrecision(np.float32))\n",
    "\n",
    "# Using built in numpy function to directly access the machine accuracy for floating point types\n",
    "print(\"\\nMachine accuracy according to built in numpy function:\")\n",
    "print(\"64 bit precision: \", np.finfo(float).eps)\n",
    "print(\"64 bit precision: \", np.finfo(np.float32).eps)"
   ]
  },
  {
   "cell_type": "markdown",
   "id": "2f4eda8d",
   "metadata": {},
   "source": [
    "-----------------------------------------------------------------"
   ]
  },
  {
   "cell_type": "markdown",
   "id": "302608ea",
   "metadata": {},
   "source": [
    "#### Exercise 2.)\n",
    "The bessel function for $n \\geq 2 $ can be constructed by $J_0(x)$ and $J_1(x)$ (which we get from scipy) via recursion, see exercise sheet"
   ]
  },
  {
   "cell_type": "code",
   "execution_count": 3,
   "id": "bc39612d",
   "metadata": {},
   "outputs": [
    {
     "name": "stdout",
     "output_type": "stream",
     "text": [
      "\n",
      "--------------Input--------------\n",
      "x: 10\n",
      "n_max: 20\n",
      "\n",
      "--------------Results--------------\n",
      "\n",
      "64 bit float:\n",
      "J0:  -0.24593576445134832\n",
      "J1:  0.04347274616886141\n",
      "J2:  0.2546303136851206\n",
      "J3:  0.05837937930518685\n",
      "J4:  -0.2196026861020085\n",
      "J5:  -0.23406152818679368\n",
      "J6:  -0.014458842084785178\n",
      "J7:  0.21671091768505146\n",
      "J8:  0.31785412684385717\n",
      "J9:  0.29185568526512007\n",
      "J10:  0.20748610663335898\n",
      "J11:  0.12311652800159789\n",
      "J12:  0.06337025497015641\n",
      "J13:  0.028972083926777498\n",
      "J14:  0.01195716323946508\n",
      "J15:  0.004507973143724725\n",
      "J16:  0.0015667561917090955\n",
      "J17:  0.0005056466697443808\n",
      "J18:  0.00015244248542179936\n",
      "J19:  4.314627777409689e-05\n",
      "J20:  1.1513370119768841e-05\n",
      "\n",
      "32 bit float:\n",
      "J0:  -0.24593577\n",
      "J1:  0.043472745\n",
      "J2:  0.2546303167939186\n",
      "J3:  0.05837938219308854\n",
      "J4:  -0.2196026874780655\n",
      "J5:  -0.23406153217554093\n",
      "J6:  -0.014458844697475437\n",
      "J7:  0.2167109185385704\n",
      "J8:  0.317854130651474\n",
      "J9:  0.291855690503788\n",
      "J10:  0.20748611225534447\n",
      "J11:  0.12311653400690092\n",
      "J12:  0.06337026255983758\n",
      "J13:  0.028972096136709258\n",
      "J14:  0.0119571873956065\n",
      "J15:  0.004508028570988941\n",
      "J16:  0.0015668983173603226\n",
      "J17:  0.0005060460445640916\n",
      "J18:  0.0001536582341575886\n",
      "J19:  4.7123598403227404e-05\n",
      "J20:  2.541143977467553e-05\n"
     ]
    }
   ],
   "source": [
    "def bessel(x, n_max):\n",
    "    j_n_minus = scipy.special.j0(x)\n",
    "    j_n = scipy.special.j1(x)\n",
    "    print(\"J0: \", j_n_minus)\n",
    "    print(\"J1: \", j_n)\n",
    "\n",
    "    for n in range(2, int(n_max) + 1):\n",
    "        j_n_plus = ((2 * (n - 1)) / x) * j_n - j_n_minus\n",
    "        j_n_minus = j_n\n",
    "        j_n = j_n_plus\n",
    "        print(\"J\" + str(n) + \": \", j_n)\n",
    "\n",
    "print(\"\\n--------------Input--------------\")\n",
    "x = input(\"x: \")\n",
    "x_64 = float(x)\n",
    "x_32 = np.float32(x)\n",
    "n_max = input(\"n_max: \")\n",
    "\n",
    "print(\"\\n--------------Results--------------\")\n",
    "\n",
    "# Fails at J10\n",
    "print(\"\\n64 bit float:\")\n",
    "bessel(x_64, n_max)\n",
    "# Fails at J6\n",
    "print(\"\\n32 bit float:\")\n",
    "bessel(x_32, n_max)"
   ]
  }
 ],
 "metadata": {
  "kernelspec": {
   "display_name": "Python 3 (ipykernel)",
   "language": "python",
   "name": "python3"
  },
  "language_info": {
   "codemirror_mode": {
    "name": "ipython",
    "version": 3
   },
   "file_extension": ".py",
   "mimetype": "text/x-python",
   "name": "python",
   "nbconvert_exporter": "python",
   "pygments_lexer": "ipython3",
   "version": "3.10.9"
  }
 },
 "nbformat": 4,
 "nbformat_minor": 5
}
