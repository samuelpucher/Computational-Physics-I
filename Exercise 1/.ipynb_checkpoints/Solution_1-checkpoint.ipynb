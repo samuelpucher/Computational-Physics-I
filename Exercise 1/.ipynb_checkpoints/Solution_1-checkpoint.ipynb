{
 "cells": [
  {
   "cell_type": "markdown",
   "id": "4de10941",
   "metadata": {},
   "source": [
    "## Computational Physics I (WS2024)\n",
    "**Exercise-Nr.**: 1 <br>\n",
    "**Name**: Samuel Pucher <br>\n",
    "**Mat-Nr**: k12007701"
   ]
  },
  {
   "cell_type": "markdown",
   "id": "a46cbac1",
   "metadata": {},
   "source": [
    "-----------------------------------------------------------------"
   ]
  },
  {
   "cell_type": "code",
   "execution_count": 1,
   "id": "b4b79aad",
   "metadata": {},
   "outputs": [],
   "source": [
    "import numpy as np\n",
    "import scipy.special"
   ]
  },
  {
   "cell_type": "markdown",
   "id": "8a7fda2a",
   "metadata": {},
   "source": [
    "-----------------------------------------------------------------"
   ]
  },
  {
   "cell_type": "markdown",
   "id": "f734cec5",
   "metadata": {},
   "source": [
    "### <u> Exercise 1.) </u>\n",
    "To dertermine the accurracy of 32-bit and 64-bit float numbers, one can use the built in functions of numpy or write a program. The function precission takes in a float (32bit or 64bit) and iterates till"
   ]
  },
  {
   "cell_type": "code",
   "execution_count": 2,
   "id": "2d5025a7",
   "metadata": {
    "scrolled": true
   },
   "outputs": [
    {
     "name": "stdout",
     "output_type": "stream",
     "text": [
      "--------------Calculate machine accuracy (manual)--------------\n",
      "64:  2.220446049250313e-16\n",
      "32:  1.1920929e-07\n",
      "--------------Display machine accuracy (Numpy)--------------\n",
      "64:  2.220446049250313e-16\n",
      "32:  1.1920929e-07\n"
     ]
    }
   ],
   "source": [
    "#manual machine precission\n",
    "def precission(func = float):\n",
    "    machine_precision = func(1)\n",
    "    while func(1) + func(machine_precision) != func(1):\n",
    "        mp_help = machine_precision\n",
    "        machine_precision = func(machine_precision) / func(2)\n",
    "    return mp_help\n",
    "\n",
    "#Print out results\n",
    "print(\"--------------Calculate machine accuracy (manual)--------------\")\n",
    "print(\"64: \", precission(float))\n",
    "print(\"32: \", precission(np.float32))\n",
    "print(\"--------------Display machine accuracy (Numpy)--------------\")\n",
    "print(\"64: \", np.finfo(float).eps)\n",
    "print(\"32: \", np.finfo(np.float32).eps)"
   ]
  },
  {
   "cell_type": "markdown",
   "id": "97d9491e",
   "metadata": {},
   "source": [
    "### <u> Discussion of Exercise. 1.) </u>\n",
    "In this short exercise, the machine precission was manually determined with the definition, stated in the lecture.\n",
    "In addition, the machine precission according to python was evaluated, with Numpy's built in functions. The results for the manual determination are listed below\n",
    "```\n",
    " >> 64 bit precision:  2.220446049250313e-16\n",
    " >> 32 bit precision:  1.1920929e-07\n",
    "```\n",
    "Numpy says:\n",
    "```\n",
    " >>64 bit precision:  2.220446049250313e-16\n",
    " >>64 bit precision:  1.1920929e-07\n",
    "```\n",
    "\n"
   ]
  },
  {
   "cell_type": "markdown",
   "id": "2f4eda8d",
   "metadata": {},
   "source": [
    "-----------------------------------------------------------------"
   ]
  },
  {
   "cell_type": "markdown",
   "id": "302608ea",
   "metadata": {},
   "source": [
    "### <u> Exercise 2.) </u>\n",
    "The bessel function for $n \\geq 2 $ can be constructed by $J_0(x)$ and $J_1(x)$ (which we get from scipy) via recursion, see exercise sheet"
   ]
  },
  {
   "cell_type": "code",
   "execution_count": 3,
   "id": "bc39612d",
   "metadata": {
    "scrolled": true
   },
   "outputs": [
    {
     "name": "stdout",
     "output_type": "stream",
     "text": [
      "\n",
      "--------------Input--------------\n",
      "\n",
      "--------------Results--------------\n",
      "\n",
      "64 bit float:\n",
      "J0:  0.7651976865579665\n",
      "J1:  0.44005058574493355\n",
      "J2:  0.11490348493190061\n",
      "relative error:  1.0000000000000009\n",
      "J3:  0.019563353982668896\n",
      "relative error:  1.0000000000000246\n",
      "J4:  0.002476638964112765\n",
      "relative error:  1.0000000000011346\n",
      "J5:  0.00024975773023322434\n",
      "relative error:  1.000000000088044\n",
      "\n",
      "32 bit float:\n",
      "J0:  0.7651977\n",
      "J1:  0.44005057\n",
      "J2:  0.11490345001220703\n",
      "relative error:  0.9999996960954362\n",
      "J3:  0.019563227891921997\n",
      "relative error:  0.9999935547479983\n",
      "J4:  0.002475917339324951\n",
      "relative error:  0.9997086273795006\n",
      "J5:  0.0002441108226776123\n",
      "relative error:  0.9773904594310396\n"
     ]
    }
   ],
   "source": [
    "def calc_bessel(x, n_max):\n",
    "    j_n_minus = scipy.special.j0(x)\n",
    "    j_n = scipy.special.j1(x)\n",
    "    print(\"J0: \", j_n_minus)\n",
    "    print(\"J1: \", j_n)\n",
    "\n",
    "    for n in range(2, int(n_max) + 1):\n",
    "        j_n_plus = ((2 * (n - 1)) / x) * j_n - j_n_minus\n",
    "        j_n_minus = j_n\n",
    "        j_n = j_n_plus\n",
    "        error = j_n/scipy.special.jv(n, x)  #Ratio of Analytic Solution/Recursion\n",
    "        print(\"J\" + str(n) + \": \", j_n)\n",
    "        print(\"relative error: \", error )\n",
    "\n",
    "#--------------Input--------------\n",
    "x = 1\n",
    "n_max = 5\n",
    "x_64 = float(x)\n",
    "x_32 = np.float32(x)\n",
    "\n",
    "print(\"\\n--------------Results--------------\")\n",
    "\n",
    "#Works until n=9 for x=1\n",
    "print(\"\\n64 bit float:\")\n",
    "calc_bessel(x_64, n_max)\n",
    "\n",
    "#Works until n=5 for x=1\n",
    "print(\"\\n32 bit float:\")\n",
    "calc_bessel(x_32, n_max)"
   ]
  },
  {
   "cell_type": "markdown",
   "id": "4eeb40a1",
   "metadata": {},
   "source": [
    "### <u> Discussion of Exercise 2.) </u>\n",
    "\n",
    "In this exercise, the Bessel functions were derived from a recursion formula, as stated in the exercise sheet. Unfortunately the recursion is not stable. E.g. te relative error $\\epsilon$ for $x=1$ for $n=10$, is arround $\\epsilon \\approx 40$ (64 bit) and for the same $x$ and $n=6$ the error is about $\\epsilon \\approx -1.6$. \n",
    "\n",
    "Corious: Larger $x$ yields a higher maximal $n$"
   ]
  }
 ],
 "metadata": {
  "kernelspec": {
   "display_name": "Python 3 (ipykernel)",
   "language": "python",
   "name": "python3"
  },
  "language_info": {
   "codemirror_mode": {
    "name": "ipython",
    "version": 3
   },
   "file_extension": ".py",
   "mimetype": "text/x-python",
   "name": "python",
   "nbconvert_exporter": "python",
   "pygments_lexer": "ipython3",
   "version": "3.12.3"
  }
 },
 "nbformat": 4,
 "nbformat_minor": 5
}
