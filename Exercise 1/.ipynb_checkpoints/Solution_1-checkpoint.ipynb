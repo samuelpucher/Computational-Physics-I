{
 "cells": [
  {
   "cell_type": "markdown",
   "id": "4de10941",
   "metadata": {},
   "source": [
    "## Computational Physics I (WS2024)\n",
    "**Exercise-Nr.**: 1 <br>\n",
    "**Name**: Samuel Pucher <br>\n",
    "**Mat-Nr**: k12007701"
   ]
  },
  {
   "cell_type": "markdown",
   "id": "a46cbac1",
   "metadata": {},
   "source": [
    "-----------------------------------------------------------------"
   ]
  },
  {
   "cell_type": "code",
   "execution_count": 1,
   "id": "b4b79aad",
   "metadata": {},
   "outputs": [],
   "source": [
    "import numpy as np\n",
    "import scipy.special"
   ]
  },
  {
   "cell_type": "markdown",
   "id": "8a7fda2a",
   "metadata": {},
   "source": [
    "-----------------------------------------------------------------"
   ]
  },
  {
   "cell_type": "markdown",
   "id": "f734cec5",
   "metadata": {},
   "source": [
    "### <u> Exercise 1.) </u>\n",
    "To dertermine the accurracy of 32-bit and 64-bit float numbers, one can use the built in functions of python"
   ]
  },
  {
   "cell_type": "code",
   "execution_count": 7,
   "id": "2d5025a7",
   "metadata": {
    "scrolled": true
   },
   "outputs": [
    {
     "name": "stdout",
     "output_type": "stream",
     "text": [
      "--------------Calculate machine accuracy (manual)--------------\n",
      "64:  2.220446049250313e-16\n",
      "32:  1.1920929e-07\n",
      "--------------Calculate machine accuracy (Numpy)--------------\n",
      "64:  2.220446049250313e-16\n",
      "32:  1.1920929e-07\n"
     ]
    }
   ],
   "source": [
    "#manual machine precission\n",
    "def precission(func = float):\n",
    "    machine_precision = func(1)\n",
    "    while func(1) + func(machine_precision) != func(1):\n",
    "        mp_help = machine_precision\n",
    "        machine_precision = func(machine_precision) / func(2)\n",
    "    return mp_help\n",
    "\n",
    "#Main program\n",
    "print(\"--------------Calculate machine accuracy (manual)--------------\")\n",
    "print(\"64: \", precission(float))\n",
    "print(\"32: \", precission(np.float32))\n",
    "print(\"--------------Calculate machine accuracy (Numpy)--------------\")\n",
    "print(\"64: \", np.finfo(float).eps)\n",
    "print(\"32: \", np.finfo(np.float32).eps)"
   ]
  },
  {
   "cell_type": "markdown",
   "id": "97d9491e",
   "metadata": {},
   "source": [
    "### <u> Discussion of Exercise. 1.) </u>\n",
    "In this short exercise, the machine precission was manually determined with the definition, stated in the lecture.\n",
    "In addition, the machine precission according to python was evaluated, with Numpy's built in functions. The results for the manual determination are listed below\n",
    "```\n",
    " >> 64 bit precision:  2.220446049250313e-16\n",
    " >> 32 bit precision:  1.1920929e-07\n",
    "```\n",
    "Numpy says:\n",
    "```\n",
    " >>64 bit precision:  2.220446049250313e-16\n",
    " >>64 bit precision:  1.1920929e-07\n",
    "```\n",
    "\n"
   ]
  },
  {
   "cell_type": "markdown",
   "id": "2f4eda8d",
   "metadata": {},
   "source": [
    "-----------------------------------------------------------------"
   ]
  },
  {
   "cell_type": "markdown",
   "id": "302608ea",
   "metadata": {},
   "source": [
    "### <u> Exercise 2.) </u>\n",
    "The bessel function for $n \\geq 2 $ can be constructed by $J_0(x)$ and $J_1(x)$ (which we get from scipy) via recursion, see exercise sheet"
   ]
  },
  {
   "cell_type": "code",
   "execution_count": null,
   "id": "bc39612d",
   "metadata": {
    "scrolled": true
   },
   "outputs": [
    {
     "name": "stdout",
     "output_type": "stream",
     "text": [
      "\n",
      "--------------Input--------------\n"
     ]
    }
   ],
   "source": [
    "def bessel(x, n_max):\n",
    "    j_n_minus = scipy.special.j0(x)\n",
    "    j_n = scipy.special.j1(x)\n",
    "    print(\"J0: \", j_n_minus)\n",
    "    print(\"J1: \", j_n)\n",
    "\n",
    "    for n in range(2, int(n_max) + 1):\n",
    "        j_n_plus = ((2 * (n - 1)) / x) * j_n - j_n_minus\n",
    "        j_n_minus = j_n\n",
    "        j_n = j_n_plus\n",
    "        print(\"J\" + str(n) + \": \", j_n)\n",
    "\n",
    "print(\"\\n--------------Input--------------\")\n",
    "x = input(\"x: \")\n",
    "x_64 = float(x)\n",
    "x_32 = np.float32(x)\n",
    "n_max = input(\"n_max: \")\n",
    "\n",
    "print(\"\\n--------------Results--------------\")\n",
    "\n",
    "# Fails at J10\n",
    "print(\"\\n64 bit float:\")\n",
    "bessel(x_64, n_max)\n",
    "# Fails at J6\n",
    "print(\"\\n32 bit float:\")\n",
    "bessel(x_32, n_max)"
   ]
  },
  {
   "cell_type": "markdown",
   "id": "4eeb40a1",
   "metadata": {},
   "source": [
    "### <u> Discussion.) </u>\n"
   ]
  },
  {
   "cell_type": "markdown",
   "id": "8b7c964a",
   "metadata": {},
   "source": []
  }
 ],
 "metadata": {
  "kernelspec": {
   "display_name": "Python 3 (ipykernel)",
   "language": "python",
   "name": "python3"
  },
  "language_info": {
   "codemirror_mode": {
    "name": "ipython",
    "version": 3
   },
   "file_extension": ".py",
   "mimetype": "text/x-python",
   "name": "python",
   "nbconvert_exporter": "python",
   "pygments_lexer": "ipython3",
   "version": "3.10.9"
  }
 },
 "nbformat": 4,
 "nbformat_minor": 5
}
