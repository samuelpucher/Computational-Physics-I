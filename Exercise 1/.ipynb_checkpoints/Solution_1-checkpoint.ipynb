{
 "cells": [
  {
   "cell_type": "markdown",
   "id": "08cbf772",
   "metadata": {},
   "source": [
    "### Computational Physics I (WS2024)\n",
    "**Exercise-Nr.**: 1 <br>\n",
    "**Name**: Samuel Pucher <br>\n",
    "**Mat-Nr**: k12007701"
   ]
  },
  {
   "cell_type": "markdown",
   "id": "c00f430f",
   "metadata": {},
   "source": [
    "-----------------------------------------------------------------"
   ]
  },
  {
   "cell_type": "code",
   "execution_count": 1,
   "id": "87e9cd37",
   "metadata": {},
   "outputs": [],
   "source": [
    "import numpy as np\n",
    "import scipy.special"
   ]
  },
  {
   "cell_type": "markdown",
   "id": "cae55e95",
   "metadata": {},
   "source": [
    "-----------------------------------------------------------------"
   ]
  },
  {
   "cell_type": "markdown",
   "id": "c21d736b",
   "metadata": {},
   "source": [
    "#### Exercise 1.)\n",
    "To dertermine the accurracy of 32-bit and 64-bit float numbers, one can use the built in functions of python "
   ]
  },
  {
   "cell_type": "code",
   "execution_count": 2,
   "id": "2b68be24",
   "metadata": {},
   "outputs": [
    {
     "name": "stdout",
     "output_type": "stream",
     "text": [
      "Manually calculated machine accuracy:\n",
      "64 bit precision:  2.220446049250313e-16\n",
      "32 bit precision:  1.1920929e-07\n",
      "\n",
      "Machine accuracy according to built in numpy function:\n",
      "64 bit precision:  2.220446049250313e-16\n",
      "64 bit precision:  1.1920929e-07\n"
     ]
    }
   ],
   "source": [
    "def machinePrecision(func = float):\n",
    "    machine_precision = func(1)\n",
    "    while func(1) + func(machine_precision) != func(1):\n",
    "        machine_precision_last = machine_precision\n",
    "        machine_precision = func(machine_precision) / func(2)\n",
    "    return machine_precision_last\n",
    "\n",
    "# Using the function above to manually calculate the machine accuracy for floating point types\n",
    "print(\"Manually calculated machine accuracy:\")\n",
    "print(\"64 bit precision: \", machinePrecision(float))\n",
    "print(\"32 bit precision: \", machinePrecision(np.float32))\n",
    "\n",
    "# Using built in numpy function to directly access the machine accuracy for floating point types\n",
    "print(\"\\nMachine accuracy according to built in numpy function:\")\n",
    "print(\"64 bit precision: \", np.finfo(float).eps)\n",
    "print(\"64 bit precision: \", np.finfo(np.float32).eps)"
   ]
  },
  {
   "cell_type": "markdown",
   "id": "a0a941c8",
   "metadata": {},
   "source": [
    "-----------------------------------------------------------------"
   ]
  },
  {
   "cell_type": "markdown",
   "id": "44994693",
   "metadata": {},
   "source": [
    "#### Exercise 2.)\n"
   ]
  },
  {
   "cell_type": "code",
   "execution_count": 6,
   "id": "9b829d31",
   "metadata": {},
   "outputs": [
    {
     "name": "stdout",
     "output_type": "stream",
     "text": [
      "\n",
      "--------------Input--------------\n",
      "x: 42\n",
      "n_max: 4\n",
      "\n",
      "--------------Results--------------\n",
      "\n",
      "64 bit float:\n",
      "J0:  -0.11473949671358272\n",
      "J1:  -0.04599388822188726\n",
      "J2:  0.11254931156015952\n",
      "J3:  0.05671287027523579\n",
      "J4:  -0.10444747294941155\n",
      "\n",
      "32 bit float:\n",
      "J0:  -0.1147395\n",
      "J1:  -0.045993887\n",
      "J2:  0.11254931489626567\n",
      "J3:  0.056712869259100115\n",
      "J4:  -0.10444747643067995\n"
     ]
    }
   ],
   "source": [
    "def bessel(x, n_max):\n",
    "    j_n_minus = scipy.special.j0(x)\n",
    "    j_n = scipy.special.j1(x)\n",
    "    print(\"J0: \", j_n_minus)\n",
    "    print(\"J1: \", j_n)\n",
    "\n",
    "    for n in range(2, int(n_max) + 1):\n",
    "        j_n_plus = ((2 * (n - 1)) / x) * j_n - j_n_minus\n",
    "        j_n_minus = j_n\n",
    "        j_n = j_n_plus\n",
    "        print(\"J\" + str(n) + \": \", j_n)\n",
    "\n",
    "print(\"\\n--------------Input--------------\")\n",
    "x = input(\"x: \")\n",
    "x_64 = float(x)\n",
    "x_32 = np.float32(x)\n",
    "n_max = input(\"n_max: \")\n",
    "\n",
    "print(\"\\n--------------Results--------------\")\n",
    "\n",
    "# Fails at J10\n",
    "print(\"\\n64 bit float:\")\n",
    "bessel(x_64, n_max)\n",
    "# Fails at J6\n",
    "print(\"\\n32 bit float:\")\n",
    "bessel(x_32, n_max)"
   ]
  }
 ],
 "metadata": {
  "kernelspec": {
   "display_name": "Python 3 (ipykernel)",
   "language": "python",
   "name": "python3"
  },
  "language_info": {
   "codemirror_mode": {
    "name": "ipython",
    "version": 3
   },
   "file_extension": ".py",
   "mimetype": "text/x-python",
   "name": "python",
   "nbconvert_exporter": "python",
   "pygments_lexer": "ipython3",
   "version": "3.10.9"
  }
 },
 "nbformat": 4,
 "nbformat_minor": 5
}
