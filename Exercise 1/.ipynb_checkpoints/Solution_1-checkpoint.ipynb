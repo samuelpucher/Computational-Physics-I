{
 "cells": [
  {
   "cell_type": "markdown",
   "id": "4de10941",
   "metadata": {},
   "source": [
    "## Computational Physics I (WS2024)\n",
    "**Exercise-Nr.**: 1 <br>\n",
    "**Name**: Samuel Pucher <br>\n",
    "**Mat-Nr**: k12007701"
   ]
  },
  {
   "cell_type": "markdown",
   "id": "a46cbac1",
   "metadata": {},
   "source": [
    "-----------------------------------------------------------------"
   ]
  },
  {
   "cell_type": "code",
   "execution_count": 1,
   "id": "b4b79aad",
   "metadata": {},
   "outputs": [],
   "source": [
    "import numpy as np\n",
    "import scipy.special"
   ]
  },
  {
   "cell_type": "markdown",
   "id": "8a7fda2a",
   "metadata": {},
   "source": [
    "-----------------------------------------------------------------"
   ]
  },
  {
   "cell_type": "markdown",
   "id": "f734cec5",
   "metadata": {},
   "source": [
    "### <u> Exercise 1.) </u>\n",
    "To dertermine the accurracy of 32-bit and 64-bit float numbers, one can use the built in functions of numpy or write a program. The function precission takes in a float (32bit or 64bit) and iterates till"
   ]
  },
  {
   "cell_type": "code",
   "execution_count": 2,
   "id": "2d5025a7",
   "metadata": {
    "scrolled": true
   },
   "outputs": [
    {
     "name": "stdout",
     "output_type": "stream",
     "text": [
      "--------------Calculate machine accuracy (manual)--------------\n",
      "64:  2.220446049250313e-16\n",
      "32:  1.1920929e-07\n",
      "--------------Display machine accuracy (Numpy)--------------\n",
      "64:  2.220446049250313e-16\n",
      "32:  1.1920929e-07\n"
     ]
    }
   ],
   "source": [
    "#manual machine precission\n",
    "def precission(func = float):\n",
    "    machine_precision = func(1)\n",
    "    while func(1) + func(machine_precision) != func(1):\n",
    "        mp_help = machine_precision\n",
    "        machine_precision = func(machine_precision) / func(2)\n",
    "    return mp_help\n",
    "\n",
    "#Print out the results\n",
    "print(\"--------------Calculate machine accuracy (manual)--------------\")\n",
    "print(\"64: \", precission(float))\n",
    "print(\"32: \", precission(np.float32))\n",
    "print(\"--------------Display machine accuracy (Numpy)--------------\")\n",
    "print(\"64: \", np.finfo(float).eps)\n",
    "print(\"32: \", np.finfo(np.float32).eps)"
   ]
  },
  {
   "cell_type": "markdown",
   "id": "97d9491e",
   "metadata": {},
   "source": [
    "### <u> Discussion of Exercise. 1.) </u>\n",
    "In this short exercise, the machine precission was manually determined with the definition, stated in the lecture.\n",
    "In addition, the machine precission according to python was evaluated, with Numpy's built in functions. The results for the manual determination are listed below\n",
    "```\n",
    " >> 64 bit precision:  2.220446049250313e-16\n",
    " >> 32 bit precision:  1.1920929e-07\n",
    "```\n",
    "Numpy says:\n",
    "```\n",
    " >>64 bit precision:  2.220446049250313e-16\n",
    " >>64 bit precision:  1.1920929e-07\n",
    "```\n",
    "\n"
   ]
  },
  {
   "cell_type": "markdown",
   "id": "2f4eda8d",
   "metadata": {},
   "source": [
    "-----------------------------------------------------------------"
   ]
  },
  {
   "cell_type": "markdown",
   "id": "302608ea",
   "metadata": {},
   "source": [
    "### <u> Exercise 2.) </u>\n",
    "The bessel function for $n \\geq 2 $ can be constructed by $J_0(x)$ and $J_1(x)$ (which we get from scipy) via recursion, see exercise sheet"
   ]
  },
  {
   "cell_type": "code",
   "execution_count": null,
   "id": "bc39612d",
   "metadata": {
    "scrolled": true
   },
   "outputs": [],
   "source": [
    "def calc_bessel(x, n_max):\n",
    "    j_n_minus = scipy.special.j0(x)\n",
    "    j_n = scipy.special.j1(x)\n",
    "    print(\"J0: \", j_n_minus)\n",
    "    print(\"J1: \", j_n)\n",
    "\n",
    "    for n in range(2, int(n_max) + 1):\n",
    "        j_n_plus = ((2 * (n - 1)) / x) * j_n - j_n_minus\n",
    "        j_n_minus = j_n\n",
    "        j_n = j_n_plus\n",
    "        error = j_n/scipy.special.jv(n, x)  #Ratio of Analytic Solution/Recursion\n",
    "        print(\"J\" + str(n) + \": \", j_n)\n",
    "        print(\"relative error: \", error )\n",
    "        print(\"\")\n",
    "\n",
    "#--------------Input--------------\n",
    "x = 1.2345\n",
    "n_max = 20\n",
    "x_64 = float(x)\n",
    "x_32 = np.float32(x)\n",
    "\n",
    "print(\"\\n--------------Results--------------\")\n",
    "\n",
    "print(\"\\n64 bit float:\")\n",
    "calc_bessel(x_64, n_max)\n",
    "\n",
    "print(\"\\n32 bit float:\")\n",
    "calc_bessel(x_32, n_max)"
   ]
  },
  {
   "cell_type": "markdown",
   "id": "4eeb40a1",
   "metadata": {},
   "source": [
    "### <u> Discussion of Exercise 2.) </u>\n",
    "\n",
    "In this exercise, the Bessel functions were derived from a recursion formula, as stated in the exercise sheet. Unfortunately the recursion is not stable. E.g. te relative error $\\epsilon$ for $x=1$ for $n=10$, is arround $\\epsilon \\approx 40$ (64 bit) and for the same $x$ and $n=6$ the error is about $\\epsilon \\approx -1.6$. \n",
    "\n",
    "Interesting: Larger $x$ yields a higher maximal $n$\n",
    "\n",
    "For a max $n=20$ and $x=1.2345$ the program yields the following output\n",
    "\n",
    "```\n",
    ">> --------------Results--------------\n",
    ">>\n",
    ">> 64 bit float:\n",
    ">> J0:  0.6537919956473143\n",
    ">> J1:  0.5068986460957604\n",
    ">> J2:  0.16742897818137825\n",
    ">> relative error:  1.0000000000000007\n",
    ">> \n",
    ">> J3:  0.03560108069687884\n",
    ">> relative error:  1.0000000000000133\n",
    ">> \n",
    ">> J4:  0.005601790697741277\n",
    ">> relative error:  1.000000000000382\n",
    ">> \n",
    ">> J5:  0.0007005196125016572\n",
    ">> relative error:  1.000000000019144\n",
    ">> \n",
    ">> J6:  7.273026217494236e-05\n",
    ">> relative error:  1.000000001464249\n",
    ">> \n",
    ">> J7:  6.4574195755469094e-06\n",
    ">> relative error:  1.0000001582334461\n",
    ">> \n",
    ">> J8:  5.009035258731365e-07\n",
    ">> relative error:  1.00002292135148\n",
    ">> \n",
    ">> J9:  3.4647183440685204e-08\n",
    ">> relative error:  1.0042836033790437\n",
    ">> \n",
    ">> J10:  4.280193796635593e-09\n",
    ">> relative error:  2.0029935534743153\n",
    ">> \n",
    ">> J11:  3.4695769927246654e-08\n",
    ">> relative error:  288.5132835487499\n",
    ">> \n",
    ">> J12:  6.140324335014011e-07\n",
    ">> relative error:  99023.10432505367\n",
    ">> \n",
    ">> J13:  1.190275129692867e-05\n",
    ">> relative error:  40342525.12171752\n",
    ">> \n",
    ">> J14:  0.000250071697594968\n",
    ">> relative error:  19189218873.38939\n",
    ">> \n",
    ">> J15:  0.005660035306750138\n",
    ">> relative error:  10537827842811.352\n",
    ">> \n",
    ">> J16:  0.1372963513096988\n",
    ">> relative error:  6616682938571682.0\n",
    ">> \n",
    ">> J17:  3.553257131084795\n",
    ">> relative error:  4.710360110262781e+18\n",
    ">> \n",
    ">> J18:  97.72478745337482\n",
    ">> relative error:  3.7736276274052805e+21\n",
    ">> \n",
    ">> J19:  2846.258284644123\n",
    ">> relative error:  3.3797538329697253e+24\n",
    ">> \n",
    ">> J20:  87514.92390957105\n",
    ">> relative error:  3.3640876991010964e+27\n",
    ">> \n",
    ">> \n",
    ">> 32 bit float:\n",
    ">> J0:  0.65379196\n",
    ">> J1:  0.50689864\n",
    ">> J2:  0.16742896884521186\n",
    ">> relative error:  0.999999873098604\n",
    ">> \n",
    ">> J3:>>   0.03560103274366233\n",
    ">> relative error:  0.9999985381632904\n",
    ">> \n",
    ">> J4:  0.005601559883983059\n",
    ">> relative error:  0.9999586389867061\n",
    ">> \n",
    ">> J5:  0.0006990703240454463\n",
    ">> relative error:  0.9979309246160812\n",
    ">> \n",
    ">> J6:  6.122096189031812e-05\n",
    ">> relative error:  0.8417534240127466\n",
    ">> \n",
    ">> J7:  -0.00010396986831063832\n",
    ">> relative error:  -16.100836279134064\n",
    ">>\n",
    ">> J8:  -0.0012403040698307707\n",
    ">> relative error:  -2476.18959192586\n",
    ">> \n",
    ">> J9:  -0.015971254355888895\n",
    ">> relative error:  -462942.7682689362\n",
    ">> \n",
    ">> J10:  -0.23163338295767869\n",
    ">> relative error:  -108396957.29586996\n",
    ">> \n",
    ">> J11:  -3.736695792607253\n",
    ">> relative error:  -31072545508.332775\n",
    ">> \n",
    ">> J12:  -66.35994545179777\n",
    ">> relative error:  -10701657160441.941\n",
    ">> \n",
    ">> J13:  -1286.371546925062\n",
    ">> relative error:  -4359954068332004.0\n",
    ">> \n",
    ">> J14:  -27026.11380964711\n",
    ">> relative error:  -2.0738441094563164e+18\n",
    ">>  \n",
    ">> J15:  -611699.5787867359\n",
    ">> relative error:  -1.1388587804140943e+21\n",
    ">> \n",
    ">> J16:  -14838090.6235323\n",
    ">> relative error:  -7.150872983656766e+23\n",
    ">> \n",
    ">> J17:  -384012747.9807851\n",
    ">> relative error:  -5.0906450259775536e+26\n",
    ">> \n",
    ">> J18:  -10561454251.839617\n",
    ">> relative error:  -4.078286306062069e+29\n",
    ">> \n",
    ">> J19:  -307604920017.51624\n",
    ">> relative error:  -3.652613348364498e+32\n",
    ">> \n",
    ">> J20:  -9458038369221.398\n",
    ">> relative error:  -3.635682133620025e+35\n",
    ">> \n",
    "\n",
    "```"
   ]
  }
 ],
 "metadata": {
  "kernelspec": {
   "display_name": "Python 3 (ipykernel)",
   "language": "python",
   "name": "python3"
  },
  "language_info": {
   "codemirror_mode": {
    "name": "ipython",
    "version": 3
   },
   "file_extension": ".py",
   "mimetype": "text/x-python",
   "name": "python",
   "nbconvert_exporter": "python",
   "pygments_lexer": "ipython3",
   "version": "3.12.3"
  }
 },
 "nbformat": 4,
 "nbformat_minor": 5
}
