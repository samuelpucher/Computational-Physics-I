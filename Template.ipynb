{
 "cells": [
  {
   "cell_type": "markdown",
   "id": "4de10941",
   "metadata": {},
   "source": [
    "### Computational Physics I (WS2024)\n",
    "**Exercise-Nr.**: XXX <br>\n",
    "**Name**: Samuel Pucher <br>\n",
    "**Mat-Nr**: k12007701"
   ]
  },
  {
   "cell_type": "markdown",
   "id": "a46cbac1",
   "metadata": {},
   "source": [
    "-----------------------------------------------------------------"
   ]
  },
  {
   "cell_type": "code",
   "execution_count": 1,
   "id": "b4b79aad",
   "metadata": {},
   "outputs": [],
   "source": [
    "import numpy as np\n",
    "import scipy.special"
   ]
  },
  {
   "cell_type": "markdown",
   "id": "8a7fda2a",
   "metadata": {},
   "source": [
    "-----------------------------------------------------------------"
   ]
  },
  {
   "cell_type": "markdown",
   "id": "f734cec5",
   "metadata": {},
   "source": [
    "#### Exercise XXX.)\n",
    "Lorem ipsum"
   ]
  },
  {
   "cell_type": "code",
   "execution_count": null,
   "id": "db8cae7d",
   "metadata": {},
   "outputs": [],
   "source": []
  }
 ],
 "metadata": {
  "kernelspec": {
   "display_name": "Python 3 (ipykernel)",
   "language": "python",
   "name": "python3"
  },
  "language_info": {
   "codemirror_mode": {
    "name": "ipython",
    "version": 3
   },
   "file_extension": ".py",
   "mimetype": "text/x-python",
   "name": "python",
   "nbconvert_exporter": "python",
   "pygments_lexer": "ipython3",
   "version": "3.10.9"
  }
 },
 "nbformat": 4,
 "nbformat_minor": 5
}
